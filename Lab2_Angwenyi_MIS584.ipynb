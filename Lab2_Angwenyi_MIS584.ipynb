{
  "nbformat": 4,
  "nbformat_minor": 0,
  "metadata": {
    "colab": {
      "provenance": []
    },
    "kernelspec": {
      "name": "python3",
      "display_name": "Python 3"
    },
    "language_info": {
      "name": "python"
    }
  },
  "cells": [
    {
      "cell_type": "markdown",
      "source": [
        "### Student's Contact Information:\n",
        "**Name:** Gloria Moraa Angwenyi\n",
        "\n",
        "**Email:** gloriaa@arizona.edu"
      ],
      "metadata": {
        "id": "cE6rET2BAJnP"
      }
    },
    {
      "cell_type": "markdown",
      "source": [
        "Part 0: Configure Spark and Download Data"
      ],
      "metadata": {
        "id": "SH_RNMJ7AokH"
      }
    },
    {
      "cell_type": "code",
      "source": [
        "!pip install pyspark"
      ],
      "metadata": {
        "colab": {
          "base_uri": "https://localhost:8080/"
        },
        "id": "-QbVt3QHAwBn",
        "outputId": "2ff4d55b-358a-417c-b869-0d18f97ea5de"
      },
      "execution_count": 46,
      "outputs": [
        {
          "output_type": "stream",
          "name": "stdout",
          "text": [
            "Requirement already satisfied: pyspark in /usr/local/lib/python3.10/dist-packages (3.5.0)\n",
            "Requirement already satisfied: py4j==0.10.9.7 in /usr/local/lib/python3.10/dist-packages (from pyspark) (0.10.9.7)\n"
          ]
        }
      ]
    },
    {
      "cell_type": "code",
      "source": [
        "# create spark context and spark session\n",
        "from pyspark import SparkConf, SparkContext\n",
        "\n",
        "conf = SparkConf().setMaster(\"local\").setAppName(\"MIS584_Lab_Assignment2\")\n",
        "#sc = SparkContext(conf = conf)\n",
        "\n",
        "# Get or create a SparkContext\n",
        "sc = SparkContext.getOrCreate()\n",
        "\n",
        "from pyspark.sql import SparkSession\n",
        "spark = SparkSession.builder.appName(\"MIS584_Lab_Assignment2\").getOrCreate()"
      ],
      "metadata": {
        "id": "JmyZK_LRBOJk"
      },
      "execution_count": 47,
      "outputs": []
    },
    {
      "cell_type": "markdown",
      "source": [
        "## Part 1: Practice of PySpark RDD"
      ],
      "metadata": {
        "id": "_8W_tVpwBk4a"
      }
    },
    {
      "cell_type": "code",
      "source": [
        "from google.colab import drive\n",
        "drive.mount('/content/drive/')"
      ],
      "metadata": {
        "id": "S7nNIkNBBgko",
        "colab": {
          "base_uri": "https://localhost:8080/"
        },
        "outputId": "4c3d688f-dab7-46a5-de99-98fab3f1d4ba"
      },
      "execution_count": 48,
      "outputs": [
        {
          "output_type": "stream",
          "name": "stdout",
          "text": [
            "Drive already mounted at /content/drive/; to attempt to forcibly remount, call drive.mount(\"/content/drive/\", force_remount=True).\n"
          ]
        }
      ]
    },
    {
      "cell_type": "code",
      "source": [
        "text_file_path = \"/content/drive/MyDrive/Colab Notebooks/text_reviews.txt\""
      ],
      "metadata": {
        "id": "fSPMAE2HREnt"
      },
      "execution_count": 49,
      "outputs": []
    },
    {
      "cell_type": "code",
      "source": [
        "# Read the text file into an RDD\n",
        "lines_rdd = sc.textFile(text_file_path)\n"
      ],
      "metadata": {
        "id": "-gWJlB5kSA8N"
      },
      "execution_count": 50,
      "outputs": []
    },
    {
      "cell_type": "code",
      "source": [
        "import pandas as pd\n",
        "\n",
        "# Define a custom mapper function to extract user IDs and review text\n",
        "def extract_user(lines):\n",
        "    # Split the line into user ID and review text using a delimiter \\t\n",
        "    parts = lines.split('\\t')\n",
        "\n",
        "    # Ensure that the line has at least two parts (user ID and review text)\n",
        "    if len(parts) >= 2:\n",
        "        user_id = parts[0].strip()\n",
        "        review_text = parts[1].strip()\n",
        "        return (user_id, review_text)\n",
        "    else:\n",
        "\n",
        "        return None\n",
        "\n",
        "# Use the map transformation to apply the custom mapper function\n",
        "# Create a new RDD containing user_id and  review_text\n",
        "user_id_review_rdd = lines_rdd.map(extract_user)\n",
        "\n",
        "\n",
        "# Print the first 10 records:\n",
        "for record in user_id_review_rdd.take(10):\n",
        "    print(record)\n",
        "\n",
        "# Convert the RDD to a DataFrame using toDF()\n",
        "columns = [\"user_id\", \"review_text\"]\n",
        "df = user_id_review_rdd .toDF(columns)\n",
        "\n",
        "# Show the DataFrame\n",
        "df.show()\n",
        "\n",
        "#Use distinct() to get the unique user IDs.\n",
        "unique_users = df.select('user_id').distinct()\n",
        "\n",
        "# Count the number of unique users\n",
        "num_unique_users = unique_users.count()\n",
        "\n",
        "# Print the number of unique users\n",
        "print(\"Number of unique users:\", num_unique_users)\n",
        "\n",
        "# Use reduceByKey to sum the review counts for each user\n",
        "user_review_counts = user_id_review_rdd.reduceByKey(lambda a, b: a + b)\n",
        "\n",
        "# Sort the RDD by total number of reviews in descending order\n",
        "sorted_user_review_counts = user_review_counts.sortBy(lambda x: x[1], ascending=False)\n",
        "\n",
        "# Take the top 10 users with the largest number of reviews\n",
        "top_10_users = sorted_user_review_counts.take(10)\n",
        "\n",
        "# Print the top 10 users with large number of reviews\n",
        "print(\"Top 10 users with largest number of reviews:\")\n",
        "for user_id in top_10_users:\n",
        "   print(f\"{user_id}\")\n",
        "\n",
        "\n",
        "# Use reduceByKey to calculate the total length of reviews for each user\n",
        "user_total_length = user_id_review_rdd.reduceByKey(lambda a, b: a + b)\n",
        "\n",
        "# Sort the RDD by values (total length of reviews) in ascending order\n",
        "sorted_user_total_length = user_total_length.sortBy(lambda x: x[1], ascending=True)\n",
        "\n",
        "# Take the 10 users with the lowest total length of reviews\n",
        "top_10_quiet_users = sorted_user_total_length.take(10)\n",
        "\n",
        "# Create a dictionary to store the total length of reviews for each user\n",
        "user_total_length = {}\n",
        "\n",
        "# Iterate through the reviews_data and calculate the total length of reviews for each user\n",
        "for user_id, review_text in top_10_quiet_users:\n",
        "    if user_id not in user_total_length:\n",
        "        user_total_length[user_id] = 0\n",
        "    user_total_length[user_id] += len(review_text)\n",
        "\n",
        "# Sort the dictionary by total length of reviews in ascending order\n",
        "sorted_user_total_length = dict(sorted(user_total_length.items(), key=lambda x: x[1]))\n",
        "\n",
        "# Get the 10 users with the lowest total length of reviews\n",
        "top_10_quiet_users = list(sorted_user_total_length.items())[:10]\n",
        "\n",
        "# Print the 10 most quiet users and their total length of reviews\n",
        "print(\"10 most quiet users:\")\n",
        "for user_id, total_length in top_10_quiet_users:\n",
        "    print(f\"User {user_id}: Length of Reviews: {total_length} characters\")\n",
        "\n",
        "# Stop the Spark Session.\n",
        "sc.stop()\n",
        "\n"
      ],
      "metadata": {
        "colab": {
          "base_uri": "https://localhost:8080/"
        },
        "id": "kFW8kwPzRe2Z",
        "outputId": "30d31852-f191-42c4-ac14-c98ea0309f17"
      },
      "execution_count": 51,
      "outputs": [
        {
          "output_type": "stream",
          "name": "stdout",
          "text": [
            "('CMYCfKoEu0WF9_43zRgr8g', \"We love this little restaurant! It's not as overrated  and loud compared to other places in Tucson. Sushi is awesome and for the right price.\")\n",
            "('CMYCfKoEu0WF9_43zRgr8g', \"We came here for dinner this evening and was absolutely delicious! Truly I was blown away. I ordered a fish special at market price and couldn't believe how yummy it was. Can't recall the name of the fish but it was in the grouper family. It tasted very identical to crab meat.   I had my one year old daughter with and couldn't get her to eat anything, but she loved my fish! Service was friendly. Love it here, but it is pricey! $100+ for two people, however every penny was well spent.\")\n",
            "('CMYCfKoEu0WF9_43zRgr8g', \"Just a heads up the owner, Roya, will not give refunds or respond to clients. I paid $500+ to reserve hair and makeup for my bridal party in September.   I was not informed that the business was closed and haven't received any responses regarding to getting a refund. Roya is a total scammer and a disgrace to the beauty industry.  I have a contract and proof regarding their refund policy for weddings, it says 50% of the total was due and a refund is eligible if given 14 days notice. Here I am giving almost 4 months notice. What a huge disappointment. Hopefully she isn't allowed to start a new business just to steal people's money.\")\n",
            "('CMYCfKoEu0WF9_43zRgr8g', \"Came in to get my ends cleaned up, FIVE TO SIX inches of my hair was hacked off when I specified no more than two. This place is a girls ultimate nightmare if you want to somewhat keep your length. I tried to be reasonable and give it a few days to get used to it, however NOBODY should ever feel this way after getting their hair done. If you're looking for a professional ladies hair cut, go elsewhere. I'm now investing out of pocket to get extensions. By far the worst hair cut I've ever had in my life.\")\n",
            "('CMYCfKoEu0WF9_43zRgr8g', \"love the atmosphere!!! The patio is the best area to sit and relax with a significant other. They've got outdoor stone fireplaces set up and comfortable (modern) furniture to dine/drink on. I'm only giving this place four stars is because their sushi is not very good... they strictly use imitation crab or no meat at all.\")\n",
            "('CMYCfKoEu0WF9_43zRgr8g', \"Breakfast is bomb!!! We usually come in an hour before closing since there's a long wait in the a.m.!\")\n",
            "('aMP9YyQbzcxXTGkWEy1kvg', \"There is a sushi bar that relocated here on the east side that's pretty good. I've eaten there a couple of times and so far like it. There no more expensive then other sushi bars so you'll know about what to expect when u get there. If u set at bar you'll get soup when u order sushi that's no charge kinda helps fill u up. (And good for you) anyway I'll recommend this sushi .\")\n",
            "('aMP9YyQbzcxXTGkWEy1kvg', \"We enjoyed the shrimp fu young. Have had it a couple of times and it's been great every time. Not sure about the other items on menu but will try more of the food over time.\")\n",
            "('aMP9YyQbzcxXTGkWEy1kvg', 'The service friendly however the food really missed the mark ( we will not be going back)')\n",
            "('aMP9YyQbzcxXTGkWEy1kvg', 'Yes very nice both the Service and food plus the cost was reasonable . Thank you again kali jo for the service. You will be seeing us again')\n",
            "+--------------------+--------------------+\n",
            "|             user_id|         review_text|\n",
            "+--------------------+--------------------+\n",
            "|CMYCfKoEu0WF9_43z...|We love this litt...|\n",
            "|CMYCfKoEu0WF9_43z...|We came here for ...|\n",
            "|CMYCfKoEu0WF9_43z...|Just a heads up t...|\n",
            "|CMYCfKoEu0WF9_43z...|Came in to get my...|\n",
            "|CMYCfKoEu0WF9_43z...|love the atmosphe...|\n",
            "|CMYCfKoEu0WF9_43z...|Breakfast is bomb...|\n",
            "|aMP9YyQbzcxXTGkWE...|There is a sushi ...|\n",
            "|aMP9YyQbzcxXTGkWE...|We enjoyed the sh...|\n",
            "|aMP9YyQbzcxXTGkWE...|The service frien...|\n",
            "|aMP9YyQbzcxXTGkWE...|Yes very nice bot...|\n",
            "|aMP9YyQbzcxXTGkWE...|going there for a...|\n",
            "|wl7VR72-u8ADycZAw...|We just stayed he...|\n",
            "|wl7VR72-u8ADycZAw...|We had an excelle...|\n",
            "|wl7VR72-u8ADycZAw...|This is a beautif...|\n",
            "|wl7VR72-u8ADycZAw...|This convenience ...|\n",
            "|wl7VR72-u8ADycZAw...|We visited here t...|\n",
            "|wl7VR72-u8ADycZAw...|We were in town o...|\n",
            "|wl7VR72-u8ADycZAw...|As others have sa...|\n",
            "|wl7VR72-u8ADycZAw...|\"This trail syste...|\n",
            "|wl7VR72-u8ADycZAw...|What is not to lo...|\n",
            "+--------------------+--------------------+\n",
            "only showing top 20 rows\n",
            "\n",
            "Number of unique users: 200\n",
            "Top 10 users with largest number of reviews:\n",
            "('h62g3uxQQkNfZL21acr-rg', 'so good! the food is made with outstanding tastes and ingredients. we go here regularly and love all the different dishes you can order. also really enjoy the lattes and chai!I normally do not write reviews which are not good. I actually had my car stereo installed with them many years ago and was pleased. But a few months ago I had new speakers, which I brought to them,  installed in my same vehicle. After they were installed, I came in 3 times inquiring about a rattling sound I was hearing as I drove and listened to music and they proceeded to put felt rug near the speaker each time. The problem persisted and instead of coming back to them my friend and I opened up the dash and saw that they had only screwed one screw in the speakers to hold them down. Looks like I got screwed! All they had to do was put in the other screws that my speakers came with to end my noisy troubles. It is ashame because I always want to support local business but I will no longer be returning to them.been really good at times fixing my car stereo and had a couple flubs when I have gone there with my speaker hook upsI love this place! my favorite Ethiopian restaurant I have frequented. so yummy and great gluten free options. please visit if you are in Tucson!I am not a coffee drinker but love coming here for the food! such great and affordable breakfast choices. the flavors are fantastic and the ingredients taste high quality. Also love the ambience and aesthetic of the old buildingthe food is prepared very well and we love to come here regularly for the great options. favorite is the 3 taco plate!')\n",
            "('4bCqTzSz0Oapv9uA2pdmwQ', \"my dad got a gift card for $30 and we picked up five sandwiches which we had to spend 15 of our own dollars on top of the gift card and the whole time they have a meal for $40 our sandwiches were the size of my son's palm, he is 6 years old he was still hungry after eating the sandwich the $40  meal is not on the menu, so how are people supposed to know it exists we could have had actually possibly had full bellies for almost $50 instead of  5 little sandwiches with no sides just the sandwichI called Oracle nails at 6 o'clock I had two very excited 14 year old girls wanting to get pedicures for their 8th grade promotion I had to check with my daughter's friend's mother to make sure all was okay for her to go and when I called back at 6:10 nobody would answer the phone I called continuously until 6:30 when we pulled up and Oracle Nails was close with no one to be seen if you're not going to stay open till 7 don't post your hours until 7 p.m.Can any one tell me if this is legal? T-Mobile messed up our promotion in March 2018. Trying to figure out the solution was not a simple nor fast process in the end result was us getting banned from calling them about the issue anymore. Now again a year later we purchased new phones and and on top of a completely separate account being  was opened and closed in our name with out our knowledge as well as being one of the many whose personal information was hacked, so was mine. In trying to get answers from T-Mobile , their response was to TAKE my husband off as an authorized user and ban me from ever allowing him back on the account that he opened.So the manager of the store took my phones and refused to give them back even to delete my personal information that was on Thursday that I returned the phones I was given a fake receipt with no account number they just ran my debit card. Since that day I have actively been fighting with AT&T to release my phone numbers and even though the manager has possession of them and there are charges being made and phones being answered they refuse to release my phone numbers. Is the standard procedure at AT& ToAfter a bad experience with Oracle Nails I pulled up to Lovely Nails at a quarter to 7 and asked if she could fit two lovely 14 year old ladies and she said absolutely one of the girls was a few dollars short for a manicure and pedicure and she said she would work with her absolutely amazing customer service so glad that there are still people in the world like this it made both my daughter and her friends evening as they are getting promoted from the 8th grade tomorrow morning thank you Lovely Nails\")\n",
            "('jF6vY7rlJsVQ_XpkL0fbxQ', \"i LIVE for ihop, they have amazing consistency and the staff is always super patience and friendly when helping my table.hands down the best mexican food in tucson!!! such a fun atmosphere as well. I have tried different tacos and burritos and have loved everythingHands down the BEST customer service. We waited not even a minute to be helped, quick and painless, and Ricky explained everything so simply so we'll have no issues. Thank you Ricky, YOU ROCK!!! I will always go to this location.This place has the biggest variety of tea and always lets me sample a million flavors when I don't know what I wantI LOVE SUBWAY, also, this location has the best employees they are all upbeat and so fun to be around.This is the best smoothie place I have ever been. I never really branch out places, and get the same thing everywhere, but I LOVE the smoothie I get and they are always willing to help me add or take fruits and ingredients out when I want to try. The service is super quick and the employees are super friendly! I go every day...whoops!!\")\n",
            "('NpzxorD5FGIYa6Yr0QkuMg', 'gotta love the cold brew here lol its like a bad pun.   basically a cup of ice for four dollars. be sure to ask for no ice, might cut into their margins though haha\"I\\'m reminded of an event that occurred here like two years ago because I\\'m looking around for a place currently to re-pierce my scarred lobes. kind of sucks to have to write a negative review for this place cause it does have pretty interesting vibes, cool pieces and the staff are really nice people but I just don\\'t even know why this happened to me. The very nice young woman I bought some 00 wood plugs from (for a super fair price I gotta say, seriously trying to be fair back!) suggested I get my ears stretched up to these pretty flared out plugs (flower design) with the help of their \"\"certified technician\"\" or something. I don\\'t remember the term they used.  The technician lady comes out from back and she seems super confident that this is actually a much better stretching technique than sizing up in some warm shower water with some nice soap. At this point in my life I was a much more trusting person to strangers, and thought that they were just trying to help me out and save me time and money, establish client report since I had also been going every other weekend to get jewelry.  Looking back I should have just done what works for me, because as soon as I got taken into the \\'stretching theatre\\' my stomach sank. I seriously should have walked out and said thanks for the pieces -____- This nice lady massaged my lobes (which I never even did to stretch up, but must help right?) for like 3 min then applies some liquid to my bare lobes.  At this point I was thinking I was worried for nothing cause this is so much more prep than soap and hot water.  This dude ripped each ear clean open in like 20 seconds. I was really taken aback by a level of pain I had never associated with stretching. I think someone else also doing it kind of left me dumb and stunned. Anyway she sprays my newly eviscerated lobes some sprays of what must be something good. Cause the minute I looked in to the mirror in my car I saw what had happened. I just drove off that day like two years ago cause I didn\\'t want to blow up you guys\\' spot in the store but looking back I probs should have made some kind of effort to point out that you guys flat tired my precious plug holes. ;__;  Honestly idk why this happened to me. It was a good lesson to learn though: Don\\'t trust a biz to something you can easily do yourself. I would get my ears re-pierced here despite all that past \\'ish cause that does NOT involve stretching however I would feel weird paying the biz and person that scarred my lobes T-T It\\'s a matter self love lol  pictured is what the plugs looked like pretty much.\"Coffee tastes like it was run through used cigarette filters.  The staff are petulant. Ordered a large and got a massive tub of ice with a drizzle of cold brew. Newsflash, franchisees, that\\'s not worth 7 dollars.  Used to love this place in Oregon. Looks like it just doesn\\'t translate and these Tucson location just charge for the name.Surprisingly mamas is comparable to upper crust, and the location is really nice with lots of parking. I got a pie with garlic spinach bellpepper and mushroom. It wasn\\'t ready when I got there but i blame a bug on grub hubs end. It barely matters because they made the food fast af. I was honestly a bit worried the vegetables would be undercooked but nope it was cooked perfectly throughout. Fresh af ingredients. Got the bruschetta and I dig the spin on it. It\\'s kind of like pesto garlic bread. In short amazing. The cannolis are a great choice as well.I didn\\'t get my food. Waited 30 minutes and the people behind me got what they paid for. I waited ten more minutes. Still nothing. It was late so you can\\'t really walk up to the counter to ask what\\'s up.  I tried to get back in the drive through line and hopefully get my food that way but the line then didn\\'t move for ten more minutes. I was worried of getting boxed in when I saw someone pull in behind me. When they had a change of mind and left I did too. And that\\'s how I spent 20 dollars and nearly an hour at Jack in the Box and had nothing to show for it but a watered down soda. Never eating at one of these places again.fresh delicious and affordable indian cuisine!   my new favorite restaurant in town.  ive been eating here regularly for about a month, consistent quality!  i recommend the matar paneer and tandoori chicken is sublime with the lemon!!  the gulab jamun is sweet and sees off the meal just rightAll the big locksmiths price fix but this guy does the job faster for a good rate. Made scheduling completely painless, friendly and prompt! Would recommend to my grandma!Best indian food I\\'ve ever had!! I can\\'t believe I haven\\'t been eating here every day I\\'ve lived in Tucson!  The dining room is IMMACCULATE and incredibly bright and welcoming.  Can\\'t wait to take my wife here on a lunch date!?this is, without a doubt, the BEST take out in Tucson, period. Char siu is deadass addictive, man. Hats off to the chefs, owners and the whole crew. The pork egg rolls are so much better than anything you can probably make or buy here in Tucson. I keep ordering the same items every time I come here, but I bet the rest of the menu is just as good. TRY THE FRIED CHICKEN. I was blown one night when I saw it, went on a whim and was not disappointed. They are tiers better than Popeye\\'s, albeit a completely different style of seasoning, but still man, you can\\'t tell me the fried chicken isn\\'t lit. Good prices too. I\\'m eating out here tonight.')\n",
            "('u28oJcZAtKiCECxVz5TMLA', 'Zizette is a very nice person but may mani was very sloppy.  One of her friends was sitting there distracting her and she couldn\\'t wait to get over on the couch converse.  I have great nails but she hacked at them as if they were acrylic.  IMO Lizette could use a refresher course on the art of the manicure.  On the other hand her daughter did a perfect pedi.  I wouldn\\'t return.There are not enough adjectives to describe the dishonorable status of this company.  I legally broke my lease with them, it has cost me thousands of $$$.  Hundreds of violations and they put the house back on the market the very next day.  There is no way they could have fixed everything in one day.  Save yourself time, pain and $$$ rent or buy from a company with at least SOME integrity.  Integrity, a word imagine realty should look up in the dictionary.I had my 1st bahn mi here and it was very good and fresh.  Thought I would try the fresh spring rolls and fried spring rolls next while working my way thru the entire menu...I am sorry to say I got sick from the rolls.  They weren\\'t very fresh but I ate them anyway and I was sick for almost 2 days.  I don\\'t want to slam them but that was my experience.  I will probably go back but eat only what is prepared fresh when I order.Bahn Mi is fresh and good. A few days later had the  Spring rolls they were not fresh but I ate them anyway and was sick for 2 days.  I love Vietnamese food and will probably go back but eat only what is prepared fresh when I order.\"Oh my GOD!!! what a friggin nightmare these people are!!! I too only applied to see if I was eligible for credit.  They put it on my credit report I owed them money 3 months after I had cancelled.  Then calling trying get help they BLAMED me because I signed the papers asking for assistance?  She also let it slip she\\'s had to deal with this before.  They act sooo nice knowing they aren\\'t going to help you then when you become irate they terminate the call.  This place needs to be investigated by the law.  Save yourself a lot of headaches go to a REAL reputable dentist office and have peace of mind.  I am so grateful I didn\\'t have the work done there. These little \"\"I\\'m sorry\"\" comments they leave just show how argumentative and unprofessional they are.  The absolute WORST dental office in my 60 years .  I don\\'t care how much I need a job or mouths to feed, you have got to have some integrity where you work otherwise you are just as much to blame.\"')\n",
            "('QDN_MV4ZC1TI_V-fgENVEA', 'Yuck, service was terrible and food was mediocre. Won\\'t be back! Go to golden house it\\'s much tastier and cheaper! Plus the service is wonderful\"Rant. I\\'m not usually the one to put any business on blast because I know the implications but this has gone on for far too long. My friends and I have frequented Bumsteds and Wonderwall plenty of times for those that don\\'t know this is located next to the Best Western Royal Sun on Speedway and stone. Prior to opening I was given the opportunity to speak on the radio regarding my restaurant and as a kind gesture I made sure to mention them to hopefully evoke alittle more support because opening during the current circumstances is terrible. Needless to say we went immediately when opening , my friends and I had the worst time between the terrible cocktails made by Barb the owner of Bumsteds with no bartending experience to her being completely rude the entire time to us, a table that was spending 350+dollars on alcohol and food. After this I just assumed it was a isolated incident and decided to go back. Time and time again my friends and I are treated like garbage at the hands of Barb the owner. The other night her daughter who is a bartender literally worked the entire night WITHOUT a mask but they have the audacity to act as though they are so strict with covid 19 protocols. Last night was the final straw, I was sitting drinking and hanging out with friends, I was buying, tipping and socializing with the bartender , we were having a great time until I stood up to talk to my friend that was at the SAME table as I , I WAS wearing my mask correctly but was bombarded by Barb she said to me to (pardon my language) \"\" wtf are you doing sit the fuck down right the fuck now\"\". I was like woahhhhh okay I\\'ll sit down I have my mask on idk what I just did to warrant her coming at me so hostile. I sat down in utter shock, a few minutes later she came back into the bar approached me, shoved her phone in my face and said \"\" these are messages to Tony (wonderwall owner) and my husband you are 86\\'d from the bar after tonight\"\" she got in my face flipped me off and said \"\"fuck you\"\" and stormed out. I have witnesses (customers and employees) that can verify the story. This is unacceptable as an owner and as a human being. Barb is constantly treating people terribly not just me. This place will not survive if this is the standard protocol. I reached out to Anthony Diaz owner of Wonderwall multiple times about this situation with no response back . This is not an isolated incident and many many customers have experienced the same situations with Barb at this bar/restaurant.\"This place has great coffee and great pancake specials! This is the first restaurant I\\'ve become a regular at! Wait staff is always helpful !Worst Italian food in Tucson and the staff is rude and very slow. Will never be back ! Over priced and grossGreat bike shop, great owners that are highly knowledgable and helpful! Prices weren\\'t to high and im very satisfied with my purchase! I definitely will be back for all my biking questions and supplies! SUPPORT THESE LOCAL BUSINESSES!I\\'ve only gone through the drive thru but staff has always been amazing, friendly and personable even in the short amount of time available to converse! And the mocha iced coffee isn\\'t to shabby eitherWhat horrible managers and employees in the  service center ! I can\\'t wait until my car is fully paid off so I can switch to a dealership that caresAbsolutely impressed with this place!!! The option of no oil is fabulous, the staff are so hospitable and you can definitely tell they care about there restaurants success and there customer loyalty! The food were smaller portions than other places I\\'ve been but also a lot cheaper! The portion was just what I wanted and needed! 18$ for 2 meals and a drink definitely can\\'t beat that!!! I highly recommend this restaurant and only hope them the best and I will definitely be back !!!')\n",
            "('8QzSs8W34_PMvIuvvXxKKg', 'Would NEVER have guessed that the quality of food and ambience would be so good. I mean, I\\'ve heard good things about the brand before but have never had the chance to go in myself. There are alot of middle eastern/Mediterranean food options in the Detroit area but this is like a healthier version of all that ethnic good ness. My falafel wrap was bountiful, nicely fried and super delicious; one I felt good after eating and not guilty. The garlic potatoes were a good accompaniment but not necessary as the pita was enough food alone. My dinner companion was happy with this shawarma pita as well and commented on the nicely seasoned chicken. The strawberry kiwi green tea was a bit strange at first but grew on me after a few sips. Service was good and basic.   The bar and seating is impressive - can\\'t wait to come back!\"Judging from other reviews, we must have really hit them on an \"\"off\"\" night. To set the scene, it was a Tuesday night in a college town with no real games on TV and the restaurant was about 50% full with business. We thought we were off to a good start coming here... 4-star Yelp reviews, a spunky greeting from the waitress and prompt beer delivery. The positive experience stops there. We ordered the chicken skewers and mozzarella sticks to start... but apparently they thought we were ending with our starter too. It took 30 min. for the appetizers to reach our table. When they finally came out, we were given the sticks but also pickle spears (not what we ordered) so they took those back. The chicken skewers were finally delivered in another 15 min. but by then were hangry and wanting to leave. We concluded our dining experience at the Trident as soon as we could and headed over for some ice cream to soothe the remaining hunger pangs.\"\"Was lucky enough to dine here in a fairly large group one Wednesday evening, even luckier that the cost of this meal and our drinks wasn\\'t coming out of my pocket.   Like others have explained - the menu is quickly delivered via chalk board by your server. Our server reviewed the menu \"\"muy rapida\"\" and with just enough Spanish inflection to make you either think she\\'s authentic or wonder what the heck she just said (I could read the menu en español, she was just really impatient with anyone who asked questions about it).   The food was good but not \"\"OMFG what did I ever think was good food before I had this meal\"\" good. I opted for the mystery platter which happen to consist of a fish/calamari in tomato sauce/tomatoes pouch; pile of shredded beef and a roll of polenta with cream sauce and a garden\\'s worth of greenery. Each bite was really good but in all honesty, I would rather have had street tacos from some food truck. Their chips & salsa were also nothing to ruin your appetite about. The only good thing about them being there was to help soak up a margarita... which leads me to drinks!   Drinks - pretty darn good, and what\\'s best is that you can order margaritas by the pitcher for an overall cost-savings of~$15-20 depending on what type you get. And when a margarita cost like $9 for a basic variety, that\\'s bargain city! Their wine is about $11/glass and I also heard great things about their sangria but didn\\'t try.   Now, take my review for what it is... I don\\'t have anywhere to compare it to in the Tucson area but if I were to spend a lot on a good dinner, it probably wouldn\\'t be on high-end taco ingredients.\"I\\'m convinced after reading yelp reviews that I need to come back and try the sirloin. I should\\'ve done my research before - tsk tsk.   First experience I went for a tote combo made up of barbacoa on flour and adobado chicken on corn tortilla. While the corn tortilla reminded me of a flour tortilla I found myself drawn more to the flavor of the flour tortilla. However, texture and char was good on both. The abodabo was really good, the barbacoa on the other hand was a bit unfamiliar and strange to me. It took a bit of doctoring up with condiments from the  salsa bar for me to thoroughly enjoy it. Rice and beans sides were yummy. Would come back, especially for the salsa bar (chips were good too, btw), but looking forward to trying other Mexican fare in Tucson.It\\'s been a long time since a Five Guys experience but I\\'m glad I gave it another try, and at this location. We missed the lunchtime rush by about 15 min so received quick service. My cheeseburger totally hit the spot - I love all the toppings you can choose from! It can be as basic or as complex as you\\'d like. The meat was juicy and packed with flavor. Handcut fries were hot and plenty to share.Lucky me! I managed to get here for their Thirsty Thursday special - everything 10% off in the store. I was flabbergasted at the amount of beer and wine in this store, it was amazing! Visiting from MI, I was looking for some craft beers from nearby or regional. I managed to fill up a 6-pack for only $16, great deal! (one bottle was $7 alone). Highly recommend if you\\'re in the market for craft beer or wine. The (I assume) owner and beer manager were super nice, too!Thoroughly impressed with my first ever visit to a pei wei. I\\'ve heard good things about them in MI but have never got around to going to one until travelling on business to Tucson.   We ordered and dined in unknowingly close to closing time but at no point did we feel rushed by any employee. The sweet n sour chicken and brown rice was freshly and quickly prepared along with my companion\\'s chicken teriyaki bowl. We were taken aback by how fresh and real the ingredients seemed compared to other fast food options out there. The sugar snap peas in fact snapped, the pineapple was fresh not canned and the red peppers were bright and tasty. If you\\'re in the mood for quick Asian style bites without the heavy, salty feeling that take-out Chinese food mostly offers this is your place!Good beer selection, OK food, and good music. I was delighted to see that they sell pizza by the slice (with whatever you like on it) as it fit exactly what I was in the mood for. The large slice is LARGE... My fellow diners got the fish & chips, salad topped with salmon, and a po boy style sandwich - all looking really good but the fish looked more like fried chicken tenderloins as opposed to fish. Nothing to rave about but it could have been worse, that\\'s for sure!I\\'ve only had catering services from Jason\\'s Deli but each time I\\'ve enjoyed the items I\\'ve had. Our meals have always been fresh (hot if hot meals; good quality salad/cool if supposed to be).   My favorite so far is the chef salad (cold cuts, egg, cheese, lettuce) that comes with their yummy homemade ranch dressing. The bacon, avocado, turkey sandwich is also good but a but heavy for lunch. Cookies are a little different tasting but who can turn down a little mid day sugar rush?   .It\\'s a nice place to pop in for lunch but I wouldn\\'t go out of my way to come here, that being said, it\\'s better than any chain sandwich shop and smells delightful. I tried the daily special Cuban style sandwich during my first visit and toasted turkey during another visit. I think where they probably hit a homerun is on their more robust sandwiches, like the Cuban (served on garlic flavored toasted bread with a decent portion of meats, mustard and pickles) and Italian-style sandwiches.   Arizona\\'s own Poore Brothers\\' branded chips are served with each basket and they also toss a butter cookie in the tray as a bonus. Fries are a few dollars extra but for the amount and quality, I wouldn\\'t bother with the up charge.First time visitor to Tucson area and was taken here for a weekday lunch by some colleagues. I had the bunless burger which came with a patty, cottage cheese, tomato slices, pickle slices, thousand island dressing and a wedge of lettuce. The burger had that good homemade feeling and taste to it, freshly made and seasoned well with salt and pepper.   My colleagues indulged in the Plain Jane style in addition to the Breakfast burger and fries....tons of fries. Buyer beware that although it does state it on the menu, the side of fries are plenty to share for 2. Yes, even guys sharing.  Would definitely return if I was craving a burger!')\n",
            "('TE8UUL4mmQifl7AGOGNl5w', \"When our pool pump stopped working I did a google search for a local pool service and found Ambiance.  They returned the call promptly and came out very quickly. They gave me an estimate to replace the pump and the old timing control, but when they looked at the situation, they suggested ways I could save money that ended up costing half as much and worked just as well.  Who does that nowadays?  I was really impressed with their professionalism and service and the new pump worked beautifully.  They also replaced leaking pipes and the chlorinator and fixed the float that adjusted water level -- we had been hand-filling the pool for years and they fixed it for a very reasonable price.   Just recently I called Mike the owner when our creepy went out and he advised me how to fix it over the phone at no charge. This company is honest and professional and I highly recommend them.My house desperately needed painting.  The paint was peeling badly and in place the wood was splitting or rotting. I got 3 estimates from various companies. AA Brite came in slightly under the other 2 if you paid cash. In addition, I was impressed with how professional they seemed. After some delay with the scheduling (they were very busy) Angel and his crew came and in 2 1/2 days  -- even with an interruption for rain -- they scraped, primed in places, repaired cracks and repainted the wood and stucco on my house, carport, and shed. Did a great job masking and draping and cleaning up afterward. Were very low-key about it; I hardly knew they were there. Did an amazing job and the house looks like new! I highly recommend this company!We had a plumbing emergency -- a clogged toilet that didn't respond to a plunger. We called our normal plumbing company, but couldn't get a live person and the earliest appointment on the on-line scheduler was tomorrow evening. So, my daughter picked out a plumber on-line -- Rooter Ranger who had good reviews. When I called, they had a real person on the line, who was able to send someone out right away and then sent me emails and texts to follow up. Shortly after that we got a call from Pablo that he was on his way. Got here within a half hour, which was after hours around 6:30 pm. He was very professional and knowledgeable. Wore a mask and booties when he entered the house. He got the toilet working within minutes and when I asked him about whether or not we should root out the whole line (which we've had to do in years past) he took the time to assess our situation and discuss the pros and cons. He felt it wasn't necessary but said he would if I wanted it done. I was glad he didn't try to talk me into an expensive and unnecessary procedure. He explained things clearly and was really great! And the price was extremely reasonable. Would definitely use this company again!We had a large group of about 25 come to the Frog & Firkin this past Sunday. The staff took great care of us -- handled all the orders beautifully with no problems, got the food out quickly and handled separate checks for everyone in the group.  I'd particularly like to commend our server Quinn who was charming, efficient, and helpful.  I had the salmon salad, which was really excellent. All together a lovely evening and I would definitely return.My computer had slowed to a crawl and often when I tried to access a website, the first response was site not found. It was taking forever to do anything. For about a week I tried to grin and bear it, but finally, unable to get work done, I checked around on Yelp, looked at various computer businesses and finally decided to try Geeks2You.  All I can say is Wow!  The person answering the phone was courteous, sympathetic, and efficient. We scheduled the tech to come out on a Sunday -- which was impressive that they offered weekend service. John was great -- diagnosed the problem quickly.  Turned out I needed a new modem/router combo.  He patiently answered all my questions on this and other computer issues I was having, and did it all within an hour.  I ordered a new modem/router from my internet carrier. Once it arrived, John came out, installed the new router for a minimal fee, and then when my printer wasn't working due to the new equipment, he came back out and fixed it for no charge! Overall, the price couldn't be beat and my computer is really fast now and I didn't have to unplug everything and lug it in somewhere.  Seriously, this company was like magic! I'll use them again for all my computer issues.  Highly recommended!Terrible company. Comcast is the only company offering cable in our area and so clearly they don't think they need to provide decent service. They've got their customers by the short hairs.  Just wish I'd read the reviews here before trying them.  I decided to try them since my DISH service isn't very good and my CenturyLink service is slow and subject to problems. The phone lines need to be replaced and they've said it's not worth the cost for them to do it, since it would have to be the whole area. I frequently have to unplug my modem and plug it back in again to get it to operate properly.  My brother suggested I try cable, so I contacted Comcast/Xfinity.  At first it seemed great.  Comcast was able to cover my T.V. internet, land line, and security system service for a little less than I was paying for several other companies.  We arranged to have my land line number ported to the new service so I didn't have to change my number, and scheduled a time for them to come out about a week later to hook it all up. On that day, they came out promptly. The service guys were courteous and well informed.  However, they discovered that the cable out to the street was defective and needed to be replaced, and so the process would be delayed until they could do that.  They rescheduled the installation about 2 weeks later.  Someone came out and marked the lines with blue lines and arrows, so it looked like putting in the cable was going forward.   Then a few days later on a Saturday, suddenly my internet and phone lines went out completely. Called Comcast and after waiting for an operator about 25 minutes found out it was because the order to have my number ported over didn't get changed when the installation was delayed.  They said they couldn't fix it any sooner than the scheduled date to come out, which would make me without internet and phone for about a week and a half. I said this was unacceptable for multiple reasons, including a home business. Could they transfer the number back to CenturyLink in the meantime. No, that would take 7-10 days to do. The person I talked to was very unhelpful. So, I called CenturyLink and on a Saturday got a technician who actually knew what he was doing. Even though he understood that I was trying to switch my service, he called Comcast, added me to the line, and again after waiting a loooong time on hold, we got a Comcast service technician. The CenturyLink guy was able to use the right terminology and tell them how to port back my number. So, that day I got phones & internet back and was awaiting the cable installation and then hooking everything up.  About 10 days later Comcast was scheduled to hook up my service. I hadn't noticed any activity related to putting in the cable. No one showed up, no evidence of a trench or anything. The day came and went and nothing. I called the next day. After another long wait got someone again -- and btw, it seems like the service calls go to some call center, who knows where it is -- the woman checked the record and said that the cable had been installed.  I said, no it hasn't. No evidence of it whatsoever. Again, after numerous back and forth and several calls with different people, no one was able to tell me what was going on. Plus, they were saying I'd have to be without internet/phone service for an indeterminate period because of porting the number back. I finally said, you know what, if this is any evidence of your service, I'm not impressed and have no assurance that it will be any better in the future. So, guess what, I'm cancelling the entire package -- everything.  I asked the operator to send me an email saying that it was cancelled because given their level of incompetence, I was afraid I'd get a bill.  She said that the email showing the cancellation would be in my inbox in the next 10 minutes. They never sent it.   And you know, no one has called to follow up, find out why a new customer who was getting the full range of their services cancelled, and try to make it better for me.  If they had, I might have reconsidered.  But nothing. Obviously, they don't care about their customers.  Terrible service and just hours of my life on the phone that I'll never get back.  A real shame too because I think cable would be the answer for the issues I'm having with my other services.  The company that emerged as the hero in all this? CenturyLink.  So, I'm keeping them, even with all the phone line problems.Last November when the used Honda Civic we bought from a shady dealer in town required way too many repairs after only a year of ownership, I thought we'd try Precision, Inc. since we used them to repair our cars many years ago, and they had a couple of used Honda Civics for sale. They are primarily a repair shop, not a dealership but do handle some used Hondas. The experience was completely different from most car buying experiences I've had -- because the staff at Precision were so low-key and positive. The price was a little high because they'd already put a lot of work into the car, but Mike treated us with honesty and respect -- no haggling, none of the usual BS. They gave us a reasonable deal on our used car and got a great used Honda Civic in beautiful shape. They handled all the registration, license, etc. just like the dealership.  We've had the car 4 months and it's not given us a moment's trouble.  I'll be taking it to them for service since we had such a great interaction when buying the car.  These guys are honest, upfront, and do high quality work -- a rare thing in the car business.  Highly recommended.\")\n",
            "('lmlONyjSkyVrnOIXSDi52g', \"What the heck is with the service at this Lotaburger? They couldn't get the orders straight and brought things out in random order, gave our order to another table.Everything about this place, the name, the decor, screams good, savory, spicy fish tacos. That they don't have any is downright wrong. The Sweet Shrimp Tacos are the only seafood option. They would be much better if they featured non-sweet grilled shrimp. This place was like the Applebee's of fake Mexican restaurants... Honey galore on everything. Not going back.Great food but long wait for it on Friday evening. Been here over 30 minutes and finally got served!This is one of those huge, noisy places, packed to the gill with loyal customers. Staff come around to your table to make fresh salsa. It is very good, as are the chips. However, the dinners left much to be desired. The fish tacos were downright lousy. Soggy fish, smothered in some kind of white sauce and served on floppy tortillas. They were generally tasteless and formless. The guacamole was super boring, too with hardly any taste. It could have used a nice infusion of lemon juice for starters. Not sure I'm inclined to go back again. If I do I'll stay away from fish tacos and guacamole.It doesn't get much better than this. Great food expertly prepared, attentive, informed service, modern, tasteful decor and a simple menu that makes you want to return time and again to try it all. I literally can't wait to come back to Anello. A must for anyone living in Tucson or visiting.\")\n",
            "('1trMVIHVfsaBRQpx8GW-XQ', \"What a find!  Yelp reviews led us here, and now I know why.  The Godfather Benedict, if you are an Eggs Benedict person, is legit.  Get a coffee too, locally grown coffee and super flavorful.  Great job Nook!Bennett was our server, and well done.      Not only is the fish fresh and food amazing, seriously, with his service you should not miss it.Great place with a cool vibe.  We had the breakfast poke and the breakfast tacos.  Both are really good.  Cheers!We had a group of 15 and they were very accommodating.  Service was great, food was tasty.  Definitely, a good spot.Went there for pizza and drinks.  Really like the pizza with fresh slices of jalepeno's on them.   Also try the knots.  Service was great too.  Cheers!\")\n",
            "10 most quiet users:\n",
            "User 6hv8BWO1DD4iyeh18a38Hg: Length of Reviews: 2167 characters\n",
            "User m9ZEiUOLRlZ2aZogXdpTBQ: Length of Reviews: 2406 characters\n",
            "User zAqeHMkiLoYkKwVnMFH4uA: Length of Reviews: 2649 characters\n",
            "User jO-gfSEvE4tnf_39L6R2lg: Length of Reviews: 3681 characters\n",
            "User nCRECoNM99a2bD-T_zoYIA: Length of Reviews: 5291 characters\n",
            "User N7NnC6-q0O-Gq2n_7YJkNg: Length of Reviews: 5375 characters\n",
            "User V-2_nuZVmenlXP1VqxuWkQ: Length of Reviews: 5380 characters\n",
            "User N6JTGCIayJiZtBGVl3Hsog: Length of Reviews: 7522 characters\n",
            "User kbmUOqtVz4rB64zUpFKtnA: Length of Reviews: 13793 characters\n",
            "User Gs4OijDfrHzAbocJ-YYGog: Length of Reviews: 21960 characters\n"
          ]
        }
      ]
    },
    {
      "cell_type": "markdown",
      "source": [
        "## Part 2: Practice of PySpark SQL"
      ],
      "metadata": {
        "id": "2lCmIUHLLLkW"
      }
    },
    {
      "cell_type": "code",
      "source": [
        "from pyspark.sql.functions import col, length\n",
        "from pyspark.sql.functions import round\n",
        "from pyspark.sql.window import Window\n",
        "from pyspark.sql import functions as F\n",
        "\n",
        "# Initialize a SparkSession\n",
        "spark = SparkSession.builder \\\n",
        "    .appName(\"Read CSV and Show Schema\") \\\n",
        "    .getOrCreate()\n",
        "\n",
        "# Define the path to the CSV file\n",
        "csv_file_path = \"/content/drive/MyDrive/Colab Notebooks/user_reviews.csv\"\n",
        "\n",
        "# Use the read.csv function to read the CSV into a DataFrame\n",
        "df1 = spark.read.csv(csv_file_path, header=True, inferSchema=True)\n",
        "\n",
        "# Print the schema of the DataFrame\n",
        "df1.printSchema()\n",
        "\n",
        "# Show the first 20 rows of the DataFrame\n",
        "df1.show(20)\n",
        "\n",
        "\n",
        "# Fill the null values with the string \"missing\"\n",
        "df_filled = df1.fillna(\"missing\")\n",
        "df_filled.show(10)\n",
        "\n",
        "# Use filter to remove rows with missing values\n",
        "df_filtered = df_filled.filter((df_filled['review_id'] != 'missing') & (df_filled['business_id'] != 'missing'))\n",
        "df_filtered.show(20)\n",
        "\n",
        "\n",
        "# Count the number of rows left after removing missing values\n",
        "row_count = df_filtered.count()\n",
        "print(\"Number of rows after removing missing values:\", row_count)\n",
        "\n",
        "# Add a new column 'review_text_length' with the length of the 'review_text' column\n",
        "df_with_length = df_filtered.withColumn(\"review_text_length\", length(col(\"review_text\")))\n",
        "\n",
        "# Show the DataFrame with the new column\n",
        "df_with_length.show(10)\n",
        "\n",
        "# Group by 'user_id' and calculate the averages\n",
        "grouped_df = df_filtered.groupBy(\"user_id\").agg(\n",
        "    round(F.avg(\"review_stars\"), 2).alias(\"avg_star_rating\"),\n",
        "    round(F.avg(F.length(\"review_text\")), 2).alias(\"avg_review_length\"),\n",
        "    round(F.sum(\"useful\"), 2).alias(\"total_useful_votes\")\n",
        ")\n",
        "\n",
        "# Sort the DataFrame as specified\n",
        "sorted_df = grouped_df.sort(F.col(\"total_useful_votes\").desc())\n",
        "\n",
        "sorted_df2 = grouped_df.sort(F.col(\"avg_star_rating\").asc())\n",
        "\n",
        "# Show the first 20 rows\n",
        "sorted_df.show(20)\n",
        "sorted_df2.show(20)\n",
        "\n",
        "\n",
        "\n",
        "# Stop the spark session\n",
        "spark.stop()\n",
        "\n"
      ],
      "metadata": {
        "colab": {
          "base_uri": "https://localhost:8080/"
        },
        "id": "zCDsJIodbXhb",
        "outputId": "d7dbd6be-cd2f-4e21-f59a-d41350181924"
      },
      "execution_count": null,
      "outputs": [
        {
          "output_type": "stream",
          "name": "stdout",
          "text": [
            "root\n",
            " |-- review_id: string (nullable = true)\n",
            " |-- user_id: string (nullable = true)\n",
            " |-- business_id: string (nullable = true)\n",
            " |-- review_stars: double (nullable = true)\n",
            " |-- useful: integer (nullable = true)\n",
            " |-- review_text: string (nullable = true)\n",
            "\n",
            "+--------------------+--------------------+--------------------+------------+------+--------------------+\n",
            "|           review_id|             user_id|         business_id|review_stars|useful|         review_text|\n",
            "+--------------------+--------------------+--------------------+------------+------+--------------------+\n",
            "|FTcRb7TUjE-K6spSj...|CMYCfKoEu0WF9_43z...|5Ce3lZksYVkCbrihq...|         5.0|     2|We love this litt...|\n",
            "|oyxS126nYDZOL0qwP...|CMYCfKoEu0WF9_43z...|CA5BOxKRDPGJgdUQ8...|         5.0|     1|We came here for ...|\n",
            "|KbFlOy2PN2dXBjdk4...|CMYCfKoEu0WF9_43z...|1MAQQhmUNU0uzHw3K...|         1.0|     4|Just a heads up t...|\n",
            "|mslt0F7LpdBMQmKGk...|CMYCfKoEu0WF9_43z...|QXB4E78FXn3eotalX...|         1.0|     9|Came in to get my...|\n",
            "|5SGsoqgx8CBbw6bcr...|CMYCfKoEu0WF9_43z...|M983OPfVRnwvG7zEO...|         4.0|     0|love the atmosphe...|\n",
            "|tBfTKrhnuTB4pmjyX...|CMYCfKoEu0WF9_43z...|J-Go00lYW4f4a3lLL...|         5.0|     0|Breakfast is bomb...|\n",
            "|Rmv9zoXR5ULycbak7...|aMP9YyQbzcxXTGkWE...|5Ce3lZksYVkCbrihq...|         5.0|     0|There is a sushi ...|\n",
            "|                NULL|aMP9YyQbzcxXTGkWE...|LDkD5R5N7CG9yCD0Y...|         4.0|     0|We enjoyed the sh...|\n",
            "|DLu-Uw9zf95a34wnt...|aMP9YyQbzcxXTGkWE...|                NULL|         1.0|     2|The service frien...|\n",
            "|MsZfSop5M_0l56yEK...|aMP9YyQbzcxXTGkWE...|RSrBPqSze2HJkx5DZ...|         5.0|     0|Yes very nice bot...|\n",
            "|HPXLtMYWz5x6Y0VeX...|aMP9YyQbzcxXTGkWE...|yjcIKn2T2QY_DjXWA...|         5.0|     0|going there for a...|\n",
            "|ZI_5XZW-hEXOy_Nwo...|wl7VR72-u8ADycZAw...|9xm4aIAT_xwRoTxc0...|         5.0|     1|We just stayed he...|\n",
            "|Q3QeaElCPucDWOeih...|wl7VR72-u8ADycZAw...|lhsQkb5nhf-Kd5Ovg...|         5.0|     1|We had an excelle...|\n",
            "|M1XotRzFPNtiSjAPL...|wl7VR72-u8ADycZAw...|733MFsA_zzEY9RzKW...|         5.0|     1|This is a beautif...|\n",
            "|_8otZ5jX3ixRd_ALK...|wl7VR72-u8ADycZAw...|-y587EqqV-Pn6J631...|         3.0|     0|This convenience ...|\n",
            "|AbgdeunKbImlWumC-...|wl7VR72-u8ADycZAw...|F9BES1HFD3BkIudUe...|         5.0|     1|We visited here t...|\n",
            "|DGcJoa40m_QnZJVjL...|wl7VR72-u8ADycZAw...|PTnahBSnLT1jeok9t...|         5.0|     0|We were in town o...|\n",
            "|th9zfwPTk3S1IwvCY...|wl7VR72-u8ADycZAw...|ZXaePy9NYj3QRge8y...|         5.0|     0|As others have sa...|\n",
            "|RmvjTKjErJi-AbsRO...|wl7VR72-u8ADycZAw...|DQqW9FqDet0EF-FWz...|         5.0|     1|\"This trail syste...|\n",
            "|U5jYKJ7ng9v8vrZro...|wl7VR72-u8ADycZAw...|qvlcna5bw8Y2C3s1L...|         5.0|     0|What is not to lo...|\n",
            "+--------------------+--------------------+--------------------+------------+------+--------------------+\n",
            "only showing top 20 rows\n",
            "\n",
            "+--------------------+--------------------+--------------------+------------+------+--------------------+\n",
            "|           review_id|             user_id|         business_id|review_stars|useful|         review_text|\n",
            "+--------------------+--------------------+--------------------+------------+------+--------------------+\n",
            "|FTcRb7TUjE-K6spSj...|CMYCfKoEu0WF9_43z...|5Ce3lZksYVkCbrihq...|         5.0|     2|We love this litt...|\n",
            "|oyxS126nYDZOL0qwP...|CMYCfKoEu0WF9_43z...|CA5BOxKRDPGJgdUQ8...|         5.0|     1|We came here for ...|\n",
            "|KbFlOy2PN2dXBjdk4...|CMYCfKoEu0WF9_43z...|1MAQQhmUNU0uzHw3K...|         1.0|     4|Just a heads up t...|\n",
            "|mslt0F7LpdBMQmKGk...|CMYCfKoEu0WF9_43z...|QXB4E78FXn3eotalX...|         1.0|     9|Came in to get my...|\n",
            "|5SGsoqgx8CBbw6bcr...|CMYCfKoEu0WF9_43z...|M983OPfVRnwvG7zEO...|         4.0|     0|love the atmosphe...|\n",
            "|tBfTKrhnuTB4pmjyX...|CMYCfKoEu0WF9_43z...|J-Go00lYW4f4a3lLL...|         5.0|     0|Breakfast is bomb...|\n",
            "|Rmv9zoXR5ULycbak7...|aMP9YyQbzcxXTGkWE...|5Ce3lZksYVkCbrihq...|         5.0|     0|There is a sushi ...|\n",
            "|             missing|aMP9YyQbzcxXTGkWE...|LDkD5R5N7CG9yCD0Y...|         4.0|     0|We enjoyed the sh...|\n",
            "|DLu-Uw9zf95a34wnt...|aMP9YyQbzcxXTGkWE...|             missing|         1.0|     2|The service frien...|\n",
            "|MsZfSop5M_0l56yEK...|aMP9YyQbzcxXTGkWE...|RSrBPqSze2HJkx5DZ...|         5.0|     0|Yes very nice bot...|\n",
            "+--------------------+--------------------+--------------------+------------+------+--------------------+\n",
            "only showing top 10 rows\n",
            "\n",
            "+--------------------+--------------------+--------------------+------------+------+--------------------+\n",
            "|           review_id|             user_id|         business_id|review_stars|useful|         review_text|\n",
            "+--------------------+--------------------+--------------------+------------+------+--------------------+\n",
            "|FTcRb7TUjE-K6spSj...|CMYCfKoEu0WF9_43z...|5Ce3lZksYVkCbrihq...|         5.0|     2|We love this litt...|\n",
            "|oyxS126nYDZOL0qwP...|CMYCfKoEu0WF9_43z...|CA5BOxKRDPGJgdUQ8...|         5.0|     1|We came here for ...|\n",
            "|KbFlOy2PN2dXBjdk4...|CMYCfKoEu0WF9_43z...|1MAQQhmUNU0uzHw3K...|         1.0|     4|Just a heads up t...|\n",
            "|mslt0F7LpdBMQmKGk...|CMYCfKoEu0WF9_43z...|QXB4E78FXn3eotalX...|         1.0|     9|Came in to get my...|\n",
            "|5SGsoqgx8CBbw6bcr...|CMYCfKoEu0WF9_43z...|M983OPfVRnwvG7zEO...|         4.0|     0|love the atmosphe...|\n",
            "|tBfTKrhnuTB4pmjyX...|CMYCfKoEu0WF9_43z...|J-Go00lYW4f4a3lLL...|         5.0|     0|Breakfast is bomb...|\n",
            "|Rmv9zoXR5ULycbak7...|aMP9YyQbzcxXTGkWE...|5Ce3lZksYVkCbrihq...|         5.0|     0|There is a sushi ...|\n",
            "|MsZfSop5M_0l56yEK...|aMP9YyQbzcxXTGkWE...|RSrBPqSze2HJkx5DZ...|         5.0|     0|Yes very nice bot...|\n",
            "|HPXLtMYWz5x6Y0VeX...|aMP9YyQbzcxXTGkWE...|yjcIKn2T2QY_DjXWA...|         5.0|     0|going there for a...|\n",
            "|ZI_5XZW-hEXOy_Nwo...|wl7VR72-u8ADycZAw...|9xm4aIAT_xwRoTxc0...|         5.0|     1|We just stayed he...|\n",
            "|Q3QeaElCPucDWOeih...|wl7VR72-u8ADycZAw...|lhsQkb5nhf-Kd5Ovg...|         5.0|     1|We had an excelle...|\n",
            "|M1XotRzFPNtiSjAPL...|wl7VR72-u8ADycZAw...|733MFsA_zzEY9RzKW...|         5.0|     1|This is a beautif...|\n",
            "|_8otZ5jX3ixRd_ALK...|wl7VR72-u8ADycZAw...|-y587EqqV-Pn6J631...|         3.0|     0|This convenience ...|\n",
            "|AbgdeunKbImlWumC-...|wl7VR72-u8ADycZAw...|F9BES1HFD3BkIudUe...|         5.0|     1|We visited here t...|\n",
            "|DGcJoa40m_QnZJVjL...|wl7VR72-u8ADycZAw...|PTnahBSnLT1jeok9t...|         5.0|     0|We were in town o...|\n",
            "|th9zfwPTk3S1IwvCY...|wl7VR72-u8ADycZAw...|ZXaePy9NYj3QRge8y...|         5.0|     0|As others have sa...|\n",
            "|RmvjTKjErJi-AbsRO...|wl7VR72-u8ADycZAw...|DQqW9FqDet0EF-FWz...|         5.0|     1|\"This trail syste...|\n",
            "|U5jYKJ7ng9v8vrZro...|wl7VR72-u8ADycZAw...|qvlcna5bw8Y2C3s1L...|         5.0|     0|What is not to lo...|\n",
            "|37FluYLjldrs81t85...|wl7VR72-u8ADycZAw...|s1p9pg69MZA7vRiFC...|         4.0|     0|\"We stopped here ...|\n",
            "|bB3ndg3ThSVg9AF80...|wl7VR72-u8ADycZAw...|MDNXo_6wMUkbv2_W3...|         4.0|     2|Great food and se...|\n",
            "+--------------------+--------------------+--------------------+------------+------+--------------------+\n",
            "only showing top 20 rows\n",
            "\n",
            "Number of rows after removing missing values: 1488\n",
            "+--------------------+--------------------+--------------------+------------+------+--------------------+------------------+\n",
            "|           review_id|             user_id|         business_id|review_stars|useful|         review_text|review_text_length|\n",
            "+--------------------+--------------------+--------------------+------------+------+--------------------+------------------+\n",
            "|FTcRb7TUjE-K6spSj...|CMYCfKoEu0WF9_43z...|5Ce3lZksYVkCbrihq...|         5.0|     2|We love this litt...|               141|\n",
            "|oyxS126nYDZOL0qwP...|CMYCfKoEu0WF9_43z...|CA5BOxKRDPGJgdUQ8...|         5.0|     1|We came here for ...|               488|\n",
            "|KbFlOy2PN2dXBjdk4...|CMYCfKoEu0WF9_43z...|1MAQQhmUNU0uzHw3K...|         1.0|     4|Just a heads up t...|               637|\n",
            "|mslt0F7LpdBMQmKGk...|CMYCfKoEu0WF9_43z...|QXB4E78FXn3eotalX...|         1.0|     9|Came in to get my...|               507|\n",
            "|5SGsoqgx8CBbw6bcr...|CMYCfKoEu0WF9_43z...|M983OPfVRnwvG7zEO...|         4.0|     0|love the atmosphe...|               322|\n",
            "|tBfTKrhnuTB4pmjyX...|CMYCfKoEu0WF9_43z...|J-Go00lYW4f4a3lLL...|         5.0|     0|Breakfast is bomb...|               101|\n",
            "|Rmv9zoXR5ULycbak7...|aMP9YyQbzcxXTGkWE...|5Ce3lZksYVkCbrihq...|         5.0|     0|There is a sushi ...|               377|\n",
            "|MsZfSop5M_0l56yEK...|aMP9YyQbzcxXTGkWE...|RSrBPqSze2HJkx5DZ...|         5.0|     0|Yes very nice bot...|               139|\n",
            "|HPXLtMYWz5x6Y0VeX...|aMP9YyQbzcxXTGkWE...|yjcIKn2T2QY_DjXWA...|         5.0|     0|going there for a...|               582|\n",
            "|ZI_5XZW-hEXOy_Nwo...|wl7VR72-u8ADycZAw...|9xm4aIAT_xwRoTxc0...|         5.0|     1|We just stayed he...|              1353|\n",
            "+--------------------+--------------------+--------------------+------------+------+--------------------+------------------+\n",
            "only showing top 10 rows\n",
            "\n",
            "+--------------------+---------------+-----------------+------------------+\n",
            "|             user_id|avg_star_rating|avg_review_length|total_useful_votes|\n",
            "+--------------------+---------------+-----------------+------------------+\n",
            "|Vdy219QdKTKmzTSy1...|            4.2|            302.9|                69|\n",
            "|59v5-XHpKQS48vRLW...|            3.9|            619.4|                65|\n",
            "|oiZUTKnsIilXwyN-H...|           4.15|           843.38|                40|\n",
            "|IpKpHOGCqLWibbiZr...|           3.69|           497.46|                39|\n",
            "|cBbVbcqUWrgYLP-06...|            4.4|           1399.8|                38|\n",
            "|uyVtmvKr7Hs9niun0...|           3.29|           903.14|                37|\n",
            "|LPovj-Wa7xXoJKM3q...|           3.57|           619.07|                34|\n",
            "|lbMsbFedMjgjhWIZj...|           3.54|           636.85|                34|\n",
            "|sDGGzhizsBdTFVW3r...|            3.6|            895.0|                30|\n",
            "|wqeLjhyY3d6ac2C8d...|           3.67|          1284.56|                28|\n",
            "|Gs4OijDfrHzAbocJ-...|           3.13|            862.0|                27|\n",
            "|liH8jTV4irA0JEuHW...|            4.0|           371.86|                25|\n",
            "|u28oJcZAtKiCECxVz...|            1.6|            473.8|                25|\n",
            "|rejYbLHPQT9M9Ujvv...|           2.75|            570.5|                24|\n",
            "|4yXxcCNC6HOCSTONn...|            4.0|           329.83|                23|\n",
            "|x_Xcg1N_mqby6Y0U9...|           4.44|           646.78|                22|\n",
            "|u6njf5K-4W8w7p-Mp...|            2.6|            857.2|                22|\n",
            "|IJ8Typa6BGckVuh1j...|           1.86|           753.57|                21|\n",
            "|zAqeHMkiLoYkKwVnM...|           3.83|            331.5|                21|\n",
            "|8OHkSxQRVfmMu5uQA...|           3.61|           471.06|                20|\n",
            "+--------------------+---------------+-----------------+------------------+\n",
            "only showing top 20 rows\n",
            "\n",
            "+--------------------+---------------+-----------------+------------------+\n",
            "|             user_id|avg_star_rating|avg_review_length|total_useful_votes|\n",
            "+--------------------+---------------+-----------------+------------------+\n",
            "|tfvNVcx0uB5W5Q-Qo...|            1.0|            607.0|                 3|\n",
            "|iRpe3fQw9pMJmxEMx...|            1.4|            153.4|                10|\n",
            "|u28oJcZAtKiCECxVz...|            1.6|            473.8|                25|\n",
            "|i0FeLl-ky1svkp_4k...|            1.6|            203.6|                 3|\n",
            "|4bCqTzSz0Oapv9uA2...|            1.8|            524.4|                 5|\n",
            "|SYMbrVrG7_nsLnW8o...|           1.83|           808.83|                 1|\n",
            "|IJ8Typa6BGckVuh1j...|           1.86|           753.57|                21|\n",
            "|TGMIvlbVHVSYw8_fQ...|            2.0|            783.5|                 3|\n",
            "|NCXVGFVzwyWYBTyoK...|           2.17|            289.5|                 1|\n",
            "|I__AqbZeCOnWwJDy5...|           2.22|           206.11|                 8|\n",
            "|HF-fTWlx1EkCErV59...|           2.33|            300.0|                 0|\n",
            "|b-hqAAJi54uABWGiy...|           2.33|           426.33|                 3|\n",
            "|ZMBr7V40KMwvITvAT...|            2.4|            526.2|                 7|\n",
            "|UZ-GSggyoRUcIzjhh...|            2.4|            971.0|                 2|\n",
            "|AsvW7euMpVzmrU2jY...|            2.5|           234.63|                 4|\n",
            "|oSzLk4emEQMNDGYSi...|            2.5|            362.5|                10|\n",
            "|9cJ9vOI-wmOBdfq_K...|            2.5|           416.63|                15|\n",
            "|1brn4qMCfq1qilTWr...|            2.5|           965.33|                 3|\n",
            "|V-2_nuZVmenlXP1Vq...|            2.6|            377.4|                 4|\n",
            "|u6njf5K-4W8w7p-Mp...|            2.6|            857.2|                22|\n",
            "+--------------------+---------------+-----------------+------------------+\n",
            "only showing top 20 rows\n",
            "\n"
          ]
        }
      ]
    }
  ]
}